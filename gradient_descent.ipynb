{
 "cells": [
  {
   "cell_type": "code",
   "execution_count": 1,
   "metadata": {},
   "outputs": [
    {
     "data": {
      "text/plain": [
       "(379, 14)"
      ]
     },
     "execution_count": 1,
     "metadata": {},
     "output_type": "execute_result"
    }
   ],
   "source": [
    "import numpy as np\n",
    "boston_data=np.loadtxt(\"0000000000002417_training_boston_x_y_train.csv\",delimiter=\",\")\n",
    "#print(boston_data.shape)\n",
    "#print(boston_data.shape)\n",
    "x_boston=boston_data[:,0:13]\n",
    "y_boston=boston_data[:,13]\n",
    "#print(y_boston.shape)\n",
    "#print(len(x_boston[0]))\n",
    "import pandas as pd\n",
    "df=pd.DataFrame(x_boston)\n",
    "df[\"13\"]=1\n",
    "x_boston=df.values\n",
    "x_boston.shape\n"
   ]
  },
  {
   "cell_type": "code",
   "execution_count": 2,
   "metadata": {},
   "outputs": [],
   "source": [
    "def cost(x_boston,y_boston,m):\n",
    "    total_cost=0\n",
    "    rows=len(x_boston)\n",
    "    for i in range(rows):\n",
    "        x=x_boston[i]\n",
    "        y=y_boston[i]\n",
    "        total_cost+=(1/rows)*(((y-(m*x).sum()))**2)\n",
    "    return total_cost\n",
    "    "
   ]
  },
  {
   "cell_type": "code",
   "execution_count": 3,
   "metadata": {},
   "outputs": [
    {
     "name": "stdout",
     "output_type": "stream",
     "text": [
      "(379, 14)\n"
     ]
    }
   ],
   "source": [
    "def step_gradient(x_boston,y_boston,learning_rate,m):\n",
    "    m_slope=np.zeros(len(x_boston[0]))\n",
    "   # print(m_slope)\n",
    "    rows=len(x_boston)\n",
    "    \n",
    "    \n",
    "    for i in range(rows):\n",
    "        x=x_boston[i]\n",
    "        y=y_boston[i]\n",
    "        \n",
    "        m=m-learning_rate*(((-2/rows)*(y-(m*x.sum())))*x)\n",
    "                           \n",
    "        m_slope+=(-2/rows)*(y-((m*x).sum()))*x\n",
    "        #print(m_slope)\n",
    "        \n",
    "        m=m-(learning_rate*m_slope)\n",
    "    return m\n",
    "    #return m\n",
    "print(x_boston.shape)\n",
    "   \n"
   ]
  },
  {
   "cell_type": "code",
   "execution_count": 4,
   "metadata": {},
   "outputs": [],
   "source": [
    "# for i in range(rows):\n",
    "       # x=x_boston[i]\n",
    "       # y=y_boston[i]\n",
    "        \n",
    "       # col=len(x_boston[i])\n",
    "       # for j in range(col):\n",
    "           # m_slope[j]+=(-2/rows)*(y-((m*x).sum()))*x_boston[i][j]\n",
    "        \n",
    "       # m=m-learning_rate*m_slope\n",
    "    #return m"
   ]
  },
  {
   "cell_type": "code",
   "execution_count": 5,
   "metadata": {},
   "outputs": [],
   "source": [
    "def gd(x_boston,y_boston,learning_rate,num_iteration):\n",
    "    m=np.zeros(len(x_boston[0]))\n",
    "    for i in range(num_iteration):\n",
    "        m=step_gradient(x_boston,y_boston,learning_rate,m)\n",
    "        #print(cost(x_boston,y_boston,m))\n",
    "        #print(m)\n",
    "    return m"
   ]
  },
  {
   "cell_type": "code",
   "execution_count": 6,
   "metadata": {},
   "outputs": [],
   "source": [
    "def run():\n",
    "    learning_rate=0.0001\n",
    "    num_iteration=100\n",
    "    m=gd(x_boston,y_boston,learning_rate,num_iteration)\n",
    "    return m"
   ]
  },
  {
   "cell_type": "code",
   "execution_count": 7,
   "metadata": {},
   "outputs": [
    {
     "name": "stdout",
     "output_type": "stream",
     "text": [
      "[-0.8414321   0.41729949 -0.80775126  0.76900973 -0.65944851  3.31912323\n",
      "  0.18603959 -1.51882405  0.76112054 -0.35287869 -1.53101419  0.68348403\n",
      " -3.53365597 22.01306462]\n"
     ]
    }
   ],
   "source": [
    "m=run()\n",
    "print(m)"
   ]
  },
  {
   "cell_type": "code",
   "execution_count": 8,
   "metadata": {},
   "outputs": [],
   "source": [
    "boston_test=np.loadtxt(\"0000000000002417_test_boston_x_test.csv\",delimiter=\",\")\n",
    "df_1=pd.DataFrame(boston_test)\n",
    "df_1[\"13\"]=1\n",
    "boston_test=df_1.values\n",
    "rows=len(boston_test)\n",
    "boston_prediction=[0 for i in range(rows)]\n",
    "for i in range(rows):\n",
    "    boston_prediction[i]+=(boston_test[i]*m).sum()\n",
    "np.savetxt(\"boston.csv\",boston_prediction)"
   ]
  },
  {
   "cell_type": "code",
   "execution_count": null,
   "metadata": {},
   "outputs": [],
   "source": []
  },
  {
   "cell_type": "code",
   "execution_count": null,
   "metadata": {},
   "outputs": [],
   "source": []
  }
 ],
 "metadata": {
  "kernelspec": {
   "display_name": "Python 3",
   "language": "python",
   "name": "python3"
  },
  "language_info": {
   "codemirror_mode": {
    "name": "ipython",
    "version": 3
   },
   "file_extension": ".py",
   "mimetype": "text/x-python",
   "name": "python",
   "nbconvert_exporter": "python",
   "pygments_lexer": "ipython3",
   "version": "3.6.5"
  }
 },
 "nbformat": 4,
 "nbformat_minor": 2
}
